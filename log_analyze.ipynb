{
 "cells": [
  {
   "cell_type": "markdown",
   "id": "a4fa02d1",
   "metadata": {},
   "source": [
    "# Настроить блокнот"
   ]
  },
  {
   "cell_type": "code",
   "execution_count": null,
   "id": "3eb0af93",
   "metadata": {},
   "outputs": [],
   "source": [
    "# Загрузить функции для обработки логов\n",
    "%run log_analyze_func.py\n",
    "# Настроить matplotlib\n",
    "%matplotlib inline"
   ]
  },
  {
   "cell_type": "markdown",
   "id": "3ddba287",
   "metadata": {},
   "source": [
    "# Исходные данные"
   ]
  },
  {
   "cell_type": "code",
   "execution_count": null,
   "id": "cab88fa0",
   "metadata": {},
   "outputs": [],
   "source": [
    "# папка с логами\n",
    "folder = r\"D:\\rx_logs\\other\\LT\"\n",
    "# папка, в которую будут выгружаться обработанны логи\n",
    "folder_out2 = f\"{folder}\\\\prepared\"\n",
    "# дата, за которую надо анализировать логи в формате ГГГГ-ММ-ДД\n",
    "date = \"2023-05-19\"\n",
    "# хосты\n",
    "hosts = ['hrpro-load-rx', 'hrpro-load-rx2', 'hrpro-load-rx3',\n",
    "         'hrpro-load-rx4', 'hrpro-load-rx5', 'hrpro-load-rx6']\n",
    "# Временные интервалы, на которые надо разделить логи\n",
    "intervals = [(\"00:00\", \"24:00\")]\n",
    "#intervals = [(\"11:20\", \"12:30\"), (\"11:54\", \"12:09\")]\n",
    "#intervals = [(\"00:00\", \"24:00\"), (\"11:20\", \"12:30\")]\n",
    "#intervals = [(\"00:00\", \"24:00\"), (\"08:00\", \"12:00\"), (\"12:00\", \"16:00\")]\n",
    "# Шаблоны для поиска логов\n",
    "logs_mask = {\n",
    "    'DelayOperation': '{}*.DelayOperation.{}*.log',\n",
    "    'GenericService': '{}*.GenericService.{}*.log',\n",
    "    'Worker': '{}*.Worker.{}*.log',\n",
    "    'WebServer': '{}*.WebServer.{}*.log',\n",
    "    'WorkflowProcessService': '{}*.WorkflowProcessService.{}*.log',\n",
    "    'DevelopmentStudio': '{}*.DevelopmentStudio.{}*.log',\n",
    "    'IntegrationService': '{}*.IntegrationService.{}*.log',\n",
    "    'Sungero.ServiceRunner': '{}*.Sungero.ServiceRunner.{}*.log',\n",
    "    'StorageService': '{}*.StorageService.{}*.log',\n",
    "    'JobScheduler' : '{}*.JobScheduler.{}*.log'\n",
    "}"
   ]
  },
  {
   "cell_type": "markdown",
   "id": "12e4c398",
   "metadata": {},
   "source": [
    "# Загрузка логов в Dataframe и предвариательная обработка"
   ]
  },
  {
   "cell_type": "code",
   "execution_count": null,
   "id": "470e4e48",
   "metadata": {
    "scrolled": false
   },
   "outputs": [],
   "source": [
    "# Загрузить данные в DataFrame\n",
    "logs = \"\"\n",
    "logs = load_logs(folder, date, logs_mask, folder_out2, hosts)\n",
    "\n",
    "# Разделить логи по интервалам\n",
    "for interval in intervals:\n",
    "    add_interval(logs, interval[0], interval[1])\n",
    "\n",
    "# Вывести сводку и сохранить логи разбив по интервалам\n",
    "for service in logs[\"services\"]:\n",
    "    for host in logs[\"hosts\"]:\n",
    "        print(f'{host}.{service}: {len(logs[service][host][\"data\"])}')\n",
    "        if (len(logs[service][host][\"data\"].index) > 0):\n",
    "            for interval_code in logs[\"intervals\"]:\n",
    "                print(f'  {interval_code}: {len(logs[service][host][interval_code][\"data\"])}')\n",
    "                dataframef2log(logs, service, host, interval_code)    "
   ]
  },
  {
   "cell_type": "markdown",
   "id": "e03e3dc9",
   "metadata": {},
   "source": [
    "# Анализ логов"
   ]
  },
  {
   "cell_type": "code",
   "execution_count": null,
   "id": "0f6d0921",
   "metadata": {
    "scrolled": false
   },
   "outputs": [],
   "source": [
    "span = 'Span(\"status\": \"Started\", \"name\": \"Apply tag filter\", \"specialFolderName\": \"ActiveTasks\")'\n",
    "f = lambda d: d[(d[\"message\"].str.contains(\"Apply tag filter\")\n",
    "                & d[\"message\"].str.contains(\"ActiveTasks\")\n",
    "                & d[\"message\"].str.contains(\"'status': 'Ok'\") \n",
    "                )]\n",
    "prepare_logs(logs, f,\n",
    "             \"ApplyTagFilter.ActiveTasks\", \n",
    "             \"ActiveTasks\",\n",
    "             show_count=True, \n",
    "             show_duration=True,\n",
    "             kind = \"dot\")"
   ]
  },
  {
   "cell_type": "code",
   "execution_count": null,
   "id": "05358d37",
   "metadata": {
    "scrolled": false
   },
   "outputs": [],
   "source": [
    "f = lambda d: d[(d[\"message\"].str.contains(\"Application started\"))]\n",
    "prepare_logs(logs, f,\n",
    "             \"ApplicationStarted\", \n",
    "             \"ApplicationStarted\",\n",
    "             show_count=True, \n",
    "             show_duration=False,\n",
    "             kind = \"dot\")"
   ]
  },
  {
   "cell_type": "code",
   "execution_count": null,
   "id": "5fef8895",
   "metadata": {
    "scrolled": false
   },
   "outputs": [],
   "source": [
    "f = lambda d: d[(d[\"message\"].str.contains(\"Large fetch\")\n",
    "                )]\n",
    "prepare_logs(logs, f,\n",
    "             \"LargeFetch\", \n",
    "             \"LargeFetch\",\n",
    "             show_count=True, \n",
    "             show_duration=True,\n",
    "            visualization_func=plot_count_log2)"
   ]
  },
  {
   "cell_type": "code",
   "execution_count": null,
   "id": "92a18a07",
   "metadata": {
    "scrolled": false
   },
   "outputs": [],
   "source": [
    "\n",
    "f = lambda d: d[(d[\"lg\"].str.contains(\"QueryObject\")\n",
    "                )]\n",
    "prepare_logs(logs, f,\n",
    "             \"QueryObject\", \n",
    "             \"QueryObject\",\n",
    "             show_count=True, \n",
    "             show_duration=True,\n",
    "            visualization_func=plot_count_log2)"
   ]
  },
  {
   "cell_type": "markdown",
   "id": "3c3cb054",
   "metadata": {},
   "source": [
    "# Примеры запросов"
   ]
  },
  {
   "cell_type": "raw",
   "id": "c35c7916",
   "metadata": {
    "scrolled": true
   },
   "source": [
    "f = lambda d: d[(d[\"message\"].str.contains(\"/odata/EssPlatform/AddSignature\")\n",
    "                 & d[\"message\"].str.contains(\"'status': 'Ok'\")) ]                 \n",
    "prepare_logs(logs, f,\n",
    "             \"AddSignature\", \n",
    "             \"Импорт ЭП\",\n",
    "              show_duration=True)             "
   ]
  },
  {
   "cell_type": "raw",
   "id": "131397a3",
   "metadata": {},
   "source": [
    "f = lambda d: d[(d[\"message\"].str.contains(\"LT=\")) ]  \n",
    "dflt = f(logs['IntegrationService']['data'].sort_values(by=['pid', 't'])).reset_index()\n",
    "for i in range(0,dflt.index.max()):\n",
    "    "
   ]
  },
  {
   "cell_type": "raw",
   "id": "12469b45",
   "metadata": {},
   "source": [
    "f = lambda d: d[(d[\"message\"].str.contains(\"LT=\")) ]                 \n",
    "prepare_logs(logs, f,\n",
    "             \"LT=\", \n",
    "             \"Упоминания LT=\",\n",
    "              show_duration=True) "
   ]
  },
  {
   "cell_type": "raw",
   "id": "5c6461b6",
   "metadata": {
    "scrolled": false
   },
   "source": [
    "# найти строки в логах:\n",
    "#  - содержит в сообщении подстроку \"Add lock\"\n",
    "f = lambda d: d[d[\"message\"].str.contains(\"Add lock\")]\n",
    "prepare_logs(logs, f,\n",
    "             \"AddLock\", \n",
    "             \"Тест Тест\")"
   ]
  },
  {
   "cell_type": "raw",
   "id": "3e5d27ce",
   "metadata": {},
   "source": [
    "# найти строки в логах:\n",
    "#  - содержит в сообщении подстроки \"SendSms\" и \"bb2065e8-9a81-4c87-bea1-9b104a135d29\"\n",
    "#  - и не содержащих подстроку \"Essplatform.AsyncHandlers.SendSms\"\n",
    "f = lambda d: d[(d[\"message\"].str.contains(\"SendSms\") \n",
    "                | d[\"message\"].str.contains(\"bb2065e8-9a81-4c87-bea1-9b104a135d29\")\n",
    "                )\n",
    "                & ~d[\"message\"].str.contains(\"Essplatform.AsyncHandlers.SendSms\")\n",
    "               ]\n",
    "prepare_logs(logs, f,\n",
    "             \"SendSms\", \n",
    "             \"Количество упоминаний в логах имени и Id обработчика SendSms (без Essplatform.AsyncHandlers.SendSms)\")"
   ]
  },
  {
   "cell_type": "raw",
   "id": "10522a3a",
   "metadata": {
    "scrolled": false
   },
   "source": [
    "# Достать строки с упоминанием задачи HRAcquaintanceTask.\n",
    "# Искать будем как по имени, так и по id типа задачи. Причем id будем смотреть как оригинальный, так и из перекрытия.\n",
    "# Условия поиска:\n",
    "#  - содержит в сообщении подстроки \"HRAcquaintanceTask\", \n",
    "#                                   \"4cdd4742-2b9e-4b92-8c5b-9f5f451279d5\" и \n",
    "#                                   \"dfd0ccf8-85b9-4f07-a39f-a784066c6e23\"\n",
    "# результат вывести столбцовой диаграммой\n",
    "f = lambda d: d[(d[\"message\"].str.contains('HRAcquaintanceTask') \n",
    "                 | d[\"message\"].str.contains('4cdd4742-2b9e-4b92-8c5b-9f5f451279d5')\n",
    "                 | d[\"message\"].str.contains('dfd0ccf8-85b9-4f07-a39f-a784066c6e23')  # из перекрытия\n",
    "                )\n",
    "               ]\n",
    "prepare_logs(logs, f, \"HRAcquaintanceTask\", \"Упоминания задачи HRAcquaintanceTask в логах)\")"
   ]
  },
  {
   "cell_type": "raw",
   "id": "5727d335",
   "metadata": {
    "scrolled": false
   },
   "source": [
    "# Достать строки с упоминанием блока с Id=5 (предположительно - задача HRAcquaintanceTask)\n",
    "# Условия поиска:\n",
    "#  - содержит в сообщении подстроки \"Block\" и \"Id = 5,\"\n",
    "#  - или содержит подстроку \"Block5\"\n",
    "# результат вывести столбцовой диаграммой\n",
    "f = lambda d: d[((d[\"message\"].str.contains('Block') \n",
    "                  & d[\"message\"].str.contains('Id = 5,'))\n",
    "                 | d[\"message\"].str.contains('Block5')\n",
    "                )\n",
    "               ]\n",
    "prepare_logs(logs, f, \"Block5\", \"Упоминания блока 5 (предположительно - задача HRAcquaintanceTask)\", \"bar\")"
   ]
  },
  {
   "cell_type": "raw",
   "id": "80266018",
   "metadata": {},
   "source": [
    "# Достать строки с упоминанием конкретных экземпляров задач\n",
    "# В логах id задач обычно упоминается строками двух видов: '\"taskId\": 2461' и 'InstanceId = 2461'\n",
    "# Условия поиска:\n",
    "#  - содержит в сообщении подстроки \"Block\" и \"Id = 5,\"\n",
    "#  - или содержит подстроку \"Block5\"\n",
    "# результат вывести столбцовой диаграммой\n",
    "f = lambda d: d[((d[\"message\"].str.contains('\"taskId\": 2461') | d[\"message\"].str.contains('InstanceId = 2461'))\n",
    "               | (d[\"message\"].str.contains('\"taskId\": 2462') | d[\"message\"].str.contains('InstanceId = 2462'))\n",
    "               )\n",
    "               ]\n",
    "prepare_logs(logs, f, \"Tasks\", \"Упоминания задач 2461, 2462\", \"bar\")"
   ]
  },
  {
   "cell_type": "raw",
   "id": "aff0143e",
   "metadata": {},
   "source": [
    "# Достать строки с ошибками, в которых упоминается Rabbit\n",
    "# Условия поиска:\n",
    "#  - уровень=Error\n",
    "#  - И сообщение содержит строку \"Rabbit\"\n",
    "# результат вывести столбцовой диаграммой\n",
    "f = lambda d: d[(d[\"l\"]==\"Error\") & d[\"message\"].str.contains(\"Rabbit\")]\n",
    "prepare_logs(logs, f, \n",
    "             \"ErrorRabbit\", \"Ошибки обращения к Rabbit\")"
   ]
  },
  {
   "cell_type": "raw",
   "id": "780f73de",
   "metadata": {
    "scrolled": false
   },
   "source": [
    "# Достать строки с ошибками, в которых НЕ упоминается Rabbit\n",
    "# Условия поиска:\n",
    "#  - уровень=Error\n",
    "#  - И сообщение НЕ содержит строку \"Rabbit\"\n",
    "f = lambda d: d[(d[\"l\"]==\"Error\")\n",
    "                & ~d[\"message\"].str.contains(\"Rabbit\")\n",
    "               ]\n",
    "prepare_logs(logs, f, \n",
    "             \"ErrorOther\", \n",
    "             \"Прочие ошибки\",\n",
    "             kind = \"line\")"
   ]
  },
  {
   "cell_type": "raw",
   "id": "82a4e912",
   "metadata": {
    "scrolled": false
   },
   "source": [
    "# Достать строки логгера AsyncHandlerOperation с упоминанием \n",
    "# асинхронного обработчика SendSms\n",
    "# Условия поиска:\n",
    "#  - логгер=AsyncHandlerOperation\n",
    "#  - И сообщение содержит строки \"asyncHandler\" и \"SendSms\"\n",
    "f = lambda d: d[(d[\"lg\"]==\"AsyncHandlerOperation\") & \n",
    "                d[\"message\"].str.contains('asyncHandler') &\n",
    "                d[\"message\"].str.contains('SendSms')]\n",
    "prepare_logs(logs, f, \n",
    "             \"AsyncHandlerSendSms\", \n",
    "             \"Упоминания асинхронного обработчика SendSms\")"
   ]
  },
  {
   "cell_type": "raw",
   "id": "4616de37",
   "metadata": {
    "scrolled": false
   },
   "source": [
    "start = datetime.fromisoformat(f\"{ date} 08:28:00.000+00:00\")\n",
    "end = datetime.fromisoformat(f\"{ date } 08:30:00.000+00:00\")\n",
    "\n",
    "f = lambda d: d[( (d[\"t\"]>=start) & (d[\"t\"]<=end)\n",
    "                )]\n",
    "prepare_logs(logs, f, \n",
    "             \"0828_0830\", \n",
    "             \"с 0828 до 0830\",\n",
    "             kind = None)"
   ]
  }
 ],
 "metadata": {
  "kernelspec": {
   "display_name": "Python 3 (ipykernel)",
   "language": "python",
   "name": "python3"
  },
  "language_info": {
   "codemirror_mode": {
    "name": "ipython",
    "version": 3
   },
   "file_extension": ".py",
   "mimetype": "text/x-python",
   "name": "python",
   "nbconvert_exporter": "python",
   "pygments_lexer": "ipython3",
   "version": "3.9.7"
  }
 },
 "nbformat": 4,
 "nbformat_minor": 5
}
